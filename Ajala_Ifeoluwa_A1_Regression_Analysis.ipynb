{
 "cells": [
  {
   "cell_type": "code",
   "execution_count": 129,
   "id": "e9e3088d",
   "metadata": {},
   "outputs": [
    {
     "data": {
      "text/html": [
       "<div>\n",
       "<style scoped>\n",
       "    .dataframe tbody tr th:only-of-type {\n",
       "        vertical-align: middle;\n",
       "    }\n",
       "\n",
       "    .dataframe tbody tr th {\n",
       "        vertical-align: top;\n",
       "    }\n",
       "\n",
       "    .dataframe thead th {\n",
       "        text-align: right;\n",
       "    }\n",
       "</style>\n",
       "<table border=\"1\" class=\"dataframe\">\n",
       "  <thead>\n",
       "    <tr style=\"text-align: right;\">\n",
       "      <th></th>\n",
       "      <th>mage</th>\n",
       "      <th>meduc</th>\n",
       "      <th>monpre</th>\n",
       "      <th>npvis</th>\n",
       "      <th>fage</th>\n",
       "      <th>feduc</th>\n",
       "      <th>omaps</th>\n",
       "      <th>fmaps</th>\n",
       "      <th>cigs</th>\n",
       "      <th>drink</th>\n",
       "      <th>male</th>\n",
       "      <th>mwhte</th>\n",
       "      <th>mblck</th>\n",
       "      <th>moth</th>\n",
       "      <th>fwhte</th>\n",
       "      <th>fblck</th>\n",
       "      <th>foth</th>\n",
       "      <th>bwght</th>\n",
       "    </tr>\n",
       "  </thead>\n",
       "  <tbody>\n",
       "    <tr>\n",
       "      <th>0</th>\n",
       "      <td>69</td>\n",
       "      <td>NaN</td>\n",
       "      <td>5</td>\n",
       "      <td>2.0</td>\n",
       "      <td>62</td>\n",
       "      <td>NaN</td>\n",
       "      <td>4</td>\n",
       "      <td>7</td>\n",
       "      <td>23</td>\n",
       "      <td>9</td>\n",
       "      <td>1</td>\n",
       "      <td>0</td>\n",
       "      <td>1</td>\n",
       "      <td>0</td>\n",
       "      <td>0</td>\n",
       "      <td>1</td>\n",
       "      <td>0</td>\n",
       "      <td>697</td>\n",
       "    </tr>\n",
       "    <tr>\n",
       "      <th>1</th>\n",
       "      <td>68</td>\n",
       "      <td>12.0</td>\n",
       "      <td>3</td>\n",
       "      <td>10.0</td>\n",
       "      <td>61</td>\n",
       "      <td>11.0</td>\n",
       "      <td>4</td>\n",
       "      <td>6</td>\n",
       "      <td>25</td>\n",
       "      <td>11</td>\n",
       "      <td>1</td>\n",
       "      <td>1</td>\n",
       "      <td>0</td>\n",
       "      <td>0</td>\n",
       "      <td>1</td>\n",
       "      <td>0</td>\n",
       "      <td>0</td>\n",
       "      <td>1290</td>\n",
       "    </tr>\n",
       "    <tr>\n",
       "      <th>2</th>\n",
       "      <td>71</td>\n",
       "      <td>12.0</td>\n",
       "      <td>3</td>\n",
       "      <td>6.0</td>\n",
       "      <td>46</td>\n",
       "      <td>12.0</td>\n",
       "      <td>2</td>\n",
       "      <td>7</td>\n",
       "      <td>21</td>\n",
       "      <td>12</td>\n",
       "      <td>1</td>\n",
       "      <td>0</td>\n",
       "      <td>1</td>\n",
       "      <td>0</td>\n",
       "      <td>0</td>\n",
       "      <td>1</td>\n",
       "      <td>0</td>\n",
       "      <td>1490</td>\n",
       "    </tr>\n",
       "    <tr>\n",
       "      <th>3</th>\n",
       "      <td>59</td>\n",
       "      <td>16.0</td>\n",
       "      <td>1</td>\n",
       "      <td>8.0</td>\n",
       "      <td>48</td>\n",
       "      <td>16.0</td>\n",
       "      <td>7</td>\n",
       "      <td>8</td>\n",
       "      <td>21</td>\n",
       "      <td>10</td>\n",
       "      <td>0</td>\n",
       "      <td>0</td>\n",
       "      <td>0</td>\n",
       "      <td>1</td>\n",
       "      <td>0</td>\n",
       "      <td>0</td>\n",
       "      <td>1</td>\n",
       "      <td>1720</td>\n",
       "    </tr>\n",
       "    <tr>\n",
       "      <th>4</th>\n",
       "      <td>48</td>\n",
       "      <td>12.0</td>\n",
       "      <td>4</td>\n",
       "      <td>6.0</td>\n",
       "      <td>39</td>\n",
       "      <td>12.0</td>\n",
       "      <td>2</td>\n",
       "      <td>9</td>\n",
       "      <td>17</td>\n",
       "      <td>13</td>\n",
       "      <td>0</td>\n",
       "      <td>1</td>\n",
       "      <td>0</td>\n",
       "      <td>0</td>\n",
       "      <td>1</td>\n",
       "      <td>0</td>\n",
       "      <td>0</td>\n",
       "      <td>1956</td>\n",
       "    </tr>\n",
       "  </tbody>\n",
       "</table>\n",
       "</div>"
      ],
      "text/plain": [
       "   mage  meduc  monpre  npvis  fage  feduc  omaps  fmaps  cigs  drink  male  mwhte  mblck  moth  fwhte  fblck  foth  bwght\n",
       "0    69    NaN       5    2.0    62    NaN      4      7    23      9     1      0      1     0      0      1     0    697\n",
       "1    68   12.0       3   10.0    61   11.0      4      6    25     11     1      1      0     0      1      0     0   1290\n",
       "2    71   12.0       3    6.0    46   12.0      2      7    21     12     1      0      1     0      0      1     0   1490\n",
       "3    59   16.0       1    8.0    48   16.0      7      8    21     10     0      0      0     1      0      0     1   1720\n",
       "4    48   12.0       4    6.0    39   12.0      2      9    17     13     0      1      0     0      1      0     0   1956"
      ]
     },
     "execution_count": 129,
     "metadata": {},
     "output_type": "execute_result"
    }
   ],
   "source": [
    "# importing libraries\n",
    "import pandas as pd # data science essentials\n",
    "import matplotlib.pyplot as plt # essential graphical output\n",
    "import seaborn as sns # enhanced graphical output\n",
    "import numpy as np # mathematical essentials\n",
    "import statsmodels.formula.api as smf # regression modeling\n",
    "\n",
    "\n",
    "# setting pandas print options\n",
    "pd.set_option('display.max_rows', 500)\n",
    "pd.set_option('display.max_columns', 500)\n",
    "pd.set_option('display.width', 1000)\n",
    "\n",
    "\n",
    "# specifying file name\n",
    "file = './__datasets/birthweight_low.xlsx'\n",
    "\n",
    "\n",
    "# reading the file into Python\n",
    "weight = pd.read_excel(io = file)\n",
    "\n",
    "\n",
    "# outputting the first ten rows of the dataset\n",
    "weight.head(n = 5)"
   ]
  },
  {
   "cell_type": "code",
   "execution_count": 130,
   "id": "7b8da4c0",
   "metadata": {},
   "outputs": [
    {
     "name": "stdout",
     "output_type": "stream",
     "text": [
      "<class 'pandas.core.frame.DataFrame'>\n",
      "RangeIndex: 196 entries, 0 to 195\n",
      "Data columns (total 18 columns):\n",
      " #   Column  Non-Null Count  Dtype  \n",
      "---  ------  --------------  -----  \n",
      " 0   mage    196 non-null    int64  \n",
      " 1   meduc   193 non-null    float64\n",
      " 2   monpre  196 non-null    int64  \n",
      " 3   npvis   193 non-null    float64\n",
      " 4   fage    196 non-null    int64  \n",
      " 5   feduc   189 non-null    float64\n",
      " 6   omaps   196 non-null    int64  \n",
      " 7   fmaps   196 non-null    int64  \n",
      " 8   cigs    196 non-null    int64  \n",
      " 9   drink   196 non-null    int64  \n",
      " 10  male    196 non-null    int64  \n",
      " 11  mwhte   196 non-null    int64  \n",
      " 12  mblck   196 non-null    int64  \n",
      " 13  moth    196 non-null    int64  \n",
      " 14  fwhte   196 non-null    int64  \n",
      " 15  fblck   196 non-null    int64  \n",
      " 16  foth    196 non-null    int64  \n",
      " 17  bwght   196 non-null    int64  \n",
      "dtypes: float64(3), int64(15)\n",
      "memory usage: 27.7 KB\n"
     ]
    }
   ],
   "source": [
    "weight.info() #checking info about dataset"
   ]
  },
  {
   "cell_type": "code",
   "execution_count": 131,
   "id": "9679b521",
   "metadata": {},
   "outputs": [
    {
     "name": "stdout",
     "output_type": "stream",
     "text": [
      "\n",
      "Size of Original Dataset\n",
      "------------------------\n",
      "Observations: 196\n",
      "Features:     18\n",
      "\n"
     ]
    }
   ],
   "source": [
    "print(f\"\"\"\n",
    "Size of Original Dataset\n",
    "------------------------\n",
    "Observations: {weight.shape[0]}\n",
    "Features:     {weight.shape[1]}\n",
    "\"\"\")         #checking the rows and columns of data set"
   ]
  },
  {
   "cell_type": "code",
   "execution_count": 132,
   "id": "9ea0f15d",
   "metadata": {},
   "outputs": [
    {
     "name": "stdout",
     "output_type": "stream",
     "text": [
      "mage\n",
      "meduc\n",
      "monpre\n",
      "npvis\n",
      "fage\n",
      "feduc\n",
      "omaps\n",
      "fmaps\n",
      "cigs\n",
      "drink\n",
      "male\n",
      "mwhte\n",
      "mblck\n",
      "moth\n",
      "fwhte\n",
      "fblck\n",
      "foth\n",
      "bwght\n"
     ]
    }
   ],
   "source": [
    "for column in weight:\n",
    "    print(column)  #printing dataset columns"
   ]
  },
  {
   "cell_type": "code",
   "execution_count": null,
   "id": "f8d173e9",
   "metadata": {},
   "outputs": [],
   "source": [
    "#Continuous\n",
    "mage\n",
    "fage\n",
    "bwght\n",
    "\n",
    "#Interval/Count\n",
    "meduc\n",
    "monpre\n",
    "npvis\n",
    "feduc\n",
    "omaps\n",
    "fmaps\n",
    "cigs\n",
    "drink\n",
    "\n",
    "#Categorical/Other\n",
    "male\n",
    "mwhte\n",
    "mblck\n",
    "moth\n",
    "fwhte\n",
    "fblck\n",
    "foth\n"
   ]
  },
  {
   "cell_type": "code",
   "execution_count": 133,
   "id": "58d800a5",
   "metadata": {},
   "outputs": [
    {
     "name": "stdout",
     "output_type": "stream",
     "text": [
      "                            OLS Regression Results                            \n",
      "==============================================================================\n",
      "Dep. Variable:                  bwght   R-squared:                       0.157\n",
      "Model:                            OLS   Adj. R-squared:                  0.152\n",
      "Method:                 Least Squares   F-statistic:                     36.08\n",
      "Date:                Wed, 24 Nov 2021   Prob (F-statistic):           9.20e-09\n",
      "Time:                        19:19:05   Log-Likelihood:                -1529.4\n",
      "No. Observations:                 196   AIC:                             3063.\n",
      "Df Residuals:                     194   BIC:                             3069.\n",
      "Df Model:                           1                                         \n",
      "Covariance Type:            nonrobust                                         \n",
      "==============================================================================\n",
      "                 coef    std err          t      P>|t|      [0.025      0.975]\n",
      "------------------------------------------------------------------------------\n",
      "Intercept   4454.2093    191.275     23.287      0.000    4076.964    4831.454\n",
      "fage         -28.5085      4.746     -6.006      0.000     -37.870     -19.147\n",
      "==============================================================================\n",
      "Omnibus:                        6.590   Durbin-Watson:                   0.161\n",
      "Prob(Omnibus):                  0.037   Jarque-Bera (JB):                6.475\n",
      "Skew:                          -0.358   Prob(JB):                       0.0393\n",
      "Kurtosis:                       3.529   Cond. No.                         181.\n",
      "==============================================================================\n",
      "\n",
      "Notes:\n",
      "[1] Standard Errors assume that the covariance matrix of the errors is correctly specified.\n"
     ]
    }
   ],
   "source": [
    "# building a base model\n",
    "\n",
    "# INSTANTIATING a model type\n",
    "lm_practice = smf.ols(formula = \"\"\"bwght ~ fage\"\"\",\n",
    "                                     data = weight)\n",
    "\n",
    "\n",
    "# telling Python to FIT the data to the blueprint\n",
    "results = lm_practice.fit()\n",
    "\n",
    "\n",
    "# printing a summary of the results\n",
    "print(results.summary())"
   ]
  },
  {
   "cell_type": "code",
   "execution_count": 134,
   "id": "5818fe26",
   "metadata": {},
   "outputs": [
    {
     "data": {
      "image/png": "[encoded data removed]",
      "text/plain": [
       "<Figure size 432x288 with 1 Axes>"
      ]
     },
     "metadata": {
      "needs_background": "light"
     },
     "output_type": "display_data"
    }
   ],
   "source": [
    "# developing a histogram using HISTPLOT\n",
    "sns.histplot(data   = weight,\n",
    "             x      = \"bwght\",\n",
    "             kde    = True)\n",
    "\n",
    "\n",
    "# title and axis labels\n",
    "plt.title(label   = \"Original Distribution of Birthweight in grams\")\n",
    "plt.xlabel(xlabel = \"Birthweight grams\") # avoiding using dataset labels\n",
    "plt.ylabel(ylabel = \"Count\")\n",
    "\n",
    "# displaying the histogram\n",
    "plt.show()"
   ]
  },
  {
   "cell_type": "code",
   "execution_count": 135,
   "id": "783082fc",
   "metadata": {},
   "outputs": [],
   "source": [
    "# log transforming Birthweight and saving it to the dataset\n",
    "weight['log_bwght'] = np.log(weight['bwght'])"
   ]
  },
  {
   "cell_type": "code",
   "execution_count": 136,
   "id": "5485bab4",
   "metadata": {},
   "outputs": [
    {
     "data": {
      "image/png": "[encoded data removed]",
      "text/plain": [
       "<Figure size 432x288 with 1 Axes>"
      ]
     },
     "metadata": {
      "needs_background": "light"
     },
     "output_type": "display_data"
    }
   ],
   "source": [
    "#developing a histogram using HISTPLOT/Didn't work\n",
    "sns.histplot(data = weight,\n",
    "                x = \"log_bwght\",\n",
    "              kde = True)\n",
    "\n",
    "#title and axis labels\n",
    "plt.title(label   = \"Logarithmic Distribution of Birth weights\")\n",
    "plt.xlabel(xlabel = \"Birthweight grams\")\n",
    "plt.ylabel(ylabel = \"Count\")\n",
    "\n",
    "#displaying the histogram\n",
    "plt.show()"
   ]
  },
  {
   "cell_type": "code",
   "execution_count": 137,
   "id": "12d17003",
   "metadata": {},
   "outputs": [
    {
     "data": {
      "image/png": "[encoded data removed]",
      "text/plain": [
       "<Figure size 432x288 with 1 Axes>"
      ]
     },
     "metadata": {
      "needs_background": "light"
     },
     "output_type": "display_data"
    }
   ],
   "source": [
    "#using histograms to check features for skewness\n",
    "sns.histplot(data = weight,\n",
    "             x    = \"mage\",\n",
    "             kde  = True)\n",
    "\n",
    "#rendering the plot\n",
    "plt.title(label   = \"Original Distribution of Birthweight Mother's Age\")\n",
    "plt.xlabel(xlabel = \"Mother's Age\")\n",
    "plt.ylabel(ylabel = \"Count\")\n",
    "\n",
    "plt.show()\n"
   ]
  },
  {
   "cell_type": "code",
   "execution_count": 138,
   "id": "f918c92d",
   "metadata": {},
   "outputs": [
    {
     "data": {
      "image/png": "[encoded data removed]",
      "text/plain": [
       "<Figure size 432x288 with 1 Axes>"
      ]
     },
     "metadata": {
      "needs_background": "light"
     },
     "output_type": "display_data"
    }
   ],
   "source": [
    "#using histograms to check features for skewness\n",
    "sns.histplot(data = weight,\n",
    "             x    = \"fage\",\n",
    "             kde  = True)\n",
    "\n",
    "#rendering the plot\n",
    "plt.title(label   = \"Original Distribution of Birthweight Father's Age\")\n",
    "plt.xlabel(xlabel = \"Father's Age\")\n",
    "plt.ylabel(ylabel = \"Count\")\n",
    "\n",
    "plt.show()"
   ]
  },
  {
   "cell_type": "code",
   "execution_count": 140,
   "id": "7b57f462",
   "metadata": {},
   "outputs": [
    {
     "name": "stdout",
     "output_type": "stream",
     "text": [
      "                            OLS Regression Results                            \n",
      "==============================================================================\n",
      "Dep. Variable:              log_bwght   R-squared:                       0.168\n",
      "Model:                            OLS   Adj. R-squared:                  0.164\n",
      "Method:                 Least Squares   F-statistic:                     39.23\n",
      "Date:                Wed, 24 Nov 2021   Prob (F-statistic):           2.37e-09\n",
      "Time:                        19:20:39   Log-Likelihood:                 26.587\n",
      "No. Observations:                 196   AIC:                            -49.17\n",
      "Df Residuals:                     194   BIC:                            -42.62\n",
      "Df Model:                           1                                         \n",
      "Covariance Type:            nonrobust                                         \n",
      "==============================================================================\n",
      "                 coef    std err          t      P>|t|      [0.025      0.975]\n",
      "------------------------------------------------------------------------------\n",
      "Intercept      8.5055      0.068    124.665      0.000       8.371       8.640\n",
      "fage          -0.0106      0.002     -6.264      0.000      -0.014      -0.007\n",
      "==============================================================================\n",
      "Omnibus:                       93.590   Durbin-Watson:                   0.212\n",
      "Prob(Omnibus):                  0.000   Jarque-Bera (JB):              515.837\n",
      "Skew:                          -1.762   Prob(JB):                    9.72e-113\n",
      "Kurtosis:                      10.124   Cond. No.                         181.\n",
      "==============================================================================\n",
      "\n",
      "Notes:\n",
      "[1] Standard Errors assume that the covariance matrix of the errors is correctly specified.\n"
     ]
    }
   ],
   "source": [
    "#building a base model with a log transformed response variable\n",
    "#instantiating a model type\n",
    "lm_best = smf.ols(formula = \"\"\"log_bwght ~ fage\"\"\",\n",
    "                  data = weight)\n",
    "\n",
    "#Step 2: Fit the data into the model object \n",
    "results = lm_best.fit()\n",
    "\n",
    "#Step 3: analyze the summary output\n",
    "print(results.summary())"
   ]
  },
  {
   "cell_type": "markdown",
   "id": "e384722c",
   "metadata": {},
   "source": [
    "<h2>Missing Values</h2>"
   ]
  },
  {
   "cell_type": "code",
   "execution_count": 141,
   "id": "d4abe477",
   "metadata": {},
   "outputs": [
    {
     "data": {
      "text/plain": [
       "mage         0\n",
       "meduc        3\n",
       "monpre       0\n",
       "npvis        3\n",
       "fage         0\n",
       "feduc        7\n",
       "omaps        0\n",
       "fmaps        0\n",
       "cigs         0\n",
       "drink        0\n",
       "male         0\n",
       "mwhte        0\n",
       "mblck        0\n",
       "moth         0\n",
       "fwhte        0\n",
       "fblck        0\n",
       "foth         0\n",
       "bwght        0\n",
       "log_bwght    0\n",
       "dtype: int64"
      ]
     },
     "execution_count": 141,
     "metadata": {},
     "output_type": "execute_result"
    }
   ],
   "source": [
    "#Review of Missing Values\n",
    "\n",
    "weight.isnull().sum(axis = 0)"
   ]
  },
  {
   "cell_type": "code",
   "execution_count": 142,
   "id": "cd831632",
   "metadata": {},
   "outputs": [
    {
     "data": {
      "text/plain": [
       "m_meduc    3\n",
       "m_npvis    3\n",
       "m_feduc    7\n",
       "dtype: int64"
      ]
     },
     "execution_count": 142,
     "metadata": {},
     "output_type": "execute_result"
    }
   ],
   "source": [
    "#looping to detect features with missing values\n",
    "\n",
    "for col in weight:\n",
    "    #creating columns with 1s if missing and 0 if not\n",
    "    if weight[col].isnull().astype(int).sum() > 0:\n",
    "        weight['m_'+col] = weight[col].isnull().astype(int)\n",
    "        \n",
    "#summing the missing values flags to check the result of the loop above\n",
    "weight.iloc[ : , -3:    ].sum(axis = 0)"
   ]
  },
  {
   "cell_type": "code",
   "execution_count": 143,
   "id": "7f8c2a59",
   "metadata": {},
   "outputs": [
    {
     "data": {
      "image/png": "[encoded data removed]",
      "text/plain": [
       "<Figure size 432x288 with 1 Axes>"
      ]
     },
     "metadata": {
      "needs_background": "light"
     },
     "output_type": "display_data"
    }
   ],
   "source": [
    "# creating a dropped dataset to visualize 'Meduc'\n",
    "df_dropped = weight.dropna()\n",
    "\n",
    "\n",
    "# displaying the plot for 'Meduc'\n",
    "sns.histplot(x   = 'meduc',\n",
    "            data = df_dropped,\n",
    "            kde  = True)\n",
    "\n",
    "\n",
    "# title and labels\n",
    "plt.title('Distribution of Mothers education')\n",
    "\n",
    "\n",
    "# displaying the plot\n",
    "plt.show()"
   ]
  },
  {
   "cell_type": "code",
   "execution_count": 144,
   "id": "c9d6b82e",
   "metadata": {},
   "outputs": [
    {
     "name": "stdout",
     "output_type": "stream",
     "text": [
      "\n",
      "The median of Mother education is: 14.0\n",
      "The median number of prenatal visit: 12.0\n",
      "The median of Father education is: 14.0\n",
      "\n",
      "\n"
     ]
    }
   ],
   "source": [
    "median_meduc = weight['meduc'].median()\n",
    "median_npvis = weight['npvis'].median()\n",
    "median_feduc = weight['feduc'].median()\n",
    "\n",
    "print(f\"\"\"\n",
    "The median of Mother education is: {median_meduc}\n",
    "The median number of prenatal visit: {median_npvis}\n",
    "The median of Father education is: {median_feduc}\n",
    "\n",
    "\"\"\")    #print function to calculate median values for missing values"
   ]
  },
  {
   "cell_type": "code",
   "execution_count": 145,
   "id": "6a9cffa4",
   "metadata": {},
   "outputs": [],
   "source": [
    "#instantiating an imputation value for number of prenatal visits at median of 12\n",
    "fill = 12\n",
    "\n",
    "#imputing 'npvis'\n",
    "weight['npvis'] = weight['npvis'].fillna(value = fill)"
   ]
  },
  {
   "cell_type": "code",
   "execution_count": 146,
   "id": "2d72d3c5",
   "metadata": {},
   "outputs": [],
   "source": [
    "#Lets assume for mother and father's education the missing values can be\n",
    "#median education calculated\n",
    "\n",
    "#imputing everything else with the zero\n",
    "#meduc\n",
    "fill = 14\n",
    "weight['meduc'] = weight['meduc'].fillna(value = fill)\n",
    "\n",
    "#feduc\n",
    "fill = 14\n",
    "weight['feduc'] = weight['feduc'].fillna(value = fill)"
   ]
  },
  {
   "cell_type": "code",
   "execution_count": 147,
   "id": "b3d3f94b",
   "metadata": {},
   "outputs": [
    {
     "data": {
      "text/plain": [
       "mage         False\n",
       "meduc        False\n",
       "monpre       False\n",
       "npvis        False\n",
       "fage         False\n",
       "feduc        False\n",
       "omaps        False\n",
       "fmaps        False\n",
       "cigs         False\n",
       "drink        False\n",
       "male         False\n",
       "mwhte        False\n",
       "mblck        False\n",
       "moth         False\n",
       "fwhte        False\n",
       "fblck        False\n",
       "foth         False\n",
       "bwght        False\n",
       "log_bwght    False\n",
       "m_meduc      False\n",
       "m_npvis      False\n",
       "m_feduc      False\n",
       "dtype: bool"
      ]
     },
     "execution_count": 147,
     "metadata": {},
     "output_type": "execute_result"
    }
   ],
   "source": [
    "weight.isnull().any(axis = 0)"
   ]
  },
  {
   "cell_type": "code",
   "execution_count": 148,
   "id": "99dc42de",
   "metadata": {},
   "outputs": [
    {
     "data": {
      "image/png": "[encoded data removed]",
      "text/plain": [
       "<Figure size 720x576 with 4 Axes>"
      ]
     },
     "metadata": {
      "needs_background": "light"
     },
     "output_type": "display_data"
    },
    {
     "data": {
      "image/png": "[encoded data removed]",
      "text/plain": [
       "<Figure size 720x864 with 5 Axes>"
      ]
     },
     "metadata": {
      "needs_background": "light"
     },
     "output_type": "display_data"
    }
   ],
   "source": [
    "########################\n",
    "# Visual EDA (Scatterplots)\n",
    "########################\n",
    "\n",
    "# setting figure size\n",
    "fig, ax = plt.subplots(figsize = (10, 8))\n",
    "\n",
    "\n",
    "# developing a scatterplot\n",
    "plt.subplot(2, 2, 1)\n",
    "sns.scatterplot(x = weight['mage'],\n",
    "                y = weight['bwght'],\n",
    "                color = 'g')\n",
    "\n",
    "\n",
    "# adding labels but not adding title\n",
    "plt.xlabel(xlabel = 'Mother age')\n",
    "plt.ylabel(ylabel = 'bwght')\n",
    "\n",
    "\n",
    "########################\n",
    "\n",
    "\n",
    "# developing a scatterplot\n",
    "plt.subplot(2, 2, 2)\n",
    "sns.scatterplot(x = weight['fage'],\n",
    "                y = weight['bwght'],\n",
    "                color = 'g')\n",
    "\n",
    "\n",
    "# adding labels but not adding title\n",
    "plt.xlabel(xlabel = 'Father age')\n",
    "plt.ylabel(ylabel = 'bwght')\n",
    "\n",
    "\n",
    "########################\n",
    "\n",
    "\n",
    "# developing a scatterplot\n",
    "plt.subplot(2, 2, 3)\n",
    "sns.scatterplot(x = weight['meduc'],\n",
    "                y = weight['bwght'],\n",
    "                color = 'orange')\n",
    "\n",
    "\n",
    "# adding labels but not adding title\n",
    "plt.xlabel(xlabel = 'Mother education')\n",
    "plt.ylabel(ylabel = 'bwght')\n",
    "\n",
    "\n",
    "########################\n",
    "\n",
    "\n",
    "# developing a scatterplot\n",
    "plt.subplot(2, 2, 4)\n",
    "sns.scatterplot(x = weight['feduc'],\n",
    "                y = weight['bwght'],\n",
    "                color = 'r')\n",
    "\n",
    "\n",
    "# adding labels but not adding title\n",
    "plt.xlabel(xlabel = 'Father education')\n",
    "plt.ylabel(ylabel = 'bwght')\n",
    "\n",
    "\n",
    "# cleaning up the layout, saving the figures, and displaying the results\n",
    "plt.tight_layout()\n",
    "plt.savefig('./__analysis_images/weight Scatterplots 1 of 2.png')\n",
    "plt.show()\n",
    "\n",
    "\n",
    "########################\n",
    "\n",
    "# setting figure size\n",
    "fig, ax = plt.subplots(figsize = (10, 12))\n",
    "\n",
    "\n",
    "# developing a scatterplot\n",
    "plt.subplot(3, 2, 1)\n",
    "sns.scatterplot(x = weight['npvis'],\n",
    "                y = weight['bwght'],\n",
    "                color = 'y')\n",
    "\n",
    "\n",
    "# adding labels but not adding title\n",
    "plt.xlabel(xlabel = 'No of prenatal visits')\n",
    "plt.ylabel(ylabel = 'bwght')\n",
    "\n",
    "\n",
    "########################\n",
    "\n",
    "\n",
    "# developing a scatterplot\n",
    "plt.subplot(3, 2, 2)\n",
    "sns.scatterplot(x = weight['omaps'],\n",
    "                y = weight['bwght'],\n",
    "                color = 'orange')\n",
    "\n",
    "\n",
    "# adding labels but not adding title\n",
    "plt.xlabel(xlabel = 'One minute measure')\n",
    "plt.ylabel(ylabel = 'bwght')\n",
    "\n",
    "\n",
    "########################\n",
    "\n",
    "\n",
    "# developing a scatterplot\n",
    "plt.subplot(3, 2, 3)\n",
    "sns.scatterplot(x = weight['fmaps'],\n",
    "                y = weight['bwght'],\n",
    "                color = 'g')\n",
    "\n",
    "\n",
    "# adding labels but not adding title\n",
    "plt.xlabel(xlabel = 'Five minutes measure')\n",
    "plt.ylabel(ylabel = 'bwght')\n",
    "\n",
    "\n",
    "########################\n",
    "\n",
    "\n",
    "# developing a scatterplot\n",
    "plt.subplot(3, 2, 4)\n",
    "sns.scatterplot(x = weight['cigs'],\n",
    "                y = weight['bwght'],\n",
    "                color = 'r')\n",
    "\n",
    "\n",
    "# adding labels but not adding title\n",
    "plt.xlabel(xlabel = 'Smoking')\n",
    "plt.ylabel(ylabel = 'bwght')\n",
    "\n",
    "\n",
    "########################\n",
    "\n",
    "\n",
    "# developing a scatterplot\n",
    "plt.subplot(3, 2, 5)\n",
    "sns.scatterplot(x = weight['drink'],\n",
    "                y = weight['bwght'],\n",
    "                color = 'r')\n",
    "\n",
    "\n",
    "# adding labels but not adding title\n",
    "plt.xlabel(xlabel = 'Alcohol')\n",
    "plt.ylabel(ylabel = 'bwght')\n",
    "\n",
    "\n",
    "# cleaning up the layout, saving the figures, and displaying the results\n",
    "plt.tight_layout()\n",
    "plt.savefig('./__analysis_images/weight Scatterplots 2 of 2.png')\n",
    "plt.show()"
   ]
  },
  {
   "cell_type": "code",
   "execution_count": 149,
   "id": "9e7ee5e0",
   "metadata": {},
   "outputs": [
    {
     "name": "stdout",
     "output_type": "stream",
     "text": [
      "\n",
      "                 No\t\tYes\n",
      "               ---------------------\n",
      "Mothers age    | 0\t\t196\n",
      "Fathers age    | 0\t\t196\n",
      "\n"
     ]
    }
   ],
   "source": [
    "#Using subsetting to check the value counts for all variables that appear to have alarge amount of zeros\n",
    "#counting the number of zeroes for \n",
    "mage_zeroes  = len(weight['mage'][weight['mage'] == 0])\n",
    "fage_zeroes  = len(weight['fage'][weight['fage'] == 0])\n",
    "\n",
    "# printing a table of the results\n",
    "print(f\"\"\"\n",
    "                 No\\t\\tYes\n",
    "               ---------------------\n",
    "Mothers age    | {mage_zeroes}\\t\\t{len(weight) - mage_zeroes}\n",
    "Fathers age    | {fage_zeroes}\\t\\t{len(weight) - fage_zeroes}\n",
    "\"\"\")"
   ]
  },
  {
   "cell_type": "code",
   "execution_count": null,
   "id": "7116d5c5",
   "metadata": {},
   "outputs": [],
   "source": [
    "#meduc_zeroes = len(weight['meduc'][weight['meduc'] == 0])\n",
    "feduc_zeroes = len(weight['feduc'][weight['feduc'] == 0])\n",
    "npvis_zeroes = len(weight['npvis'][weight['npvis'] == 0])\n",
    "\n",
    "#Mother educ    | {meduc_zeroes}\\t\\t{len(weight) - meduc_zeroes}\n",
    "Fathers educ   | {feduc_zeroes}\\t\\t{len(weight) - feduc_zeroes}\n",
    "Prenatal vis   | {npvis_zeroes}\\t\\t{len(weight) - npvis_zeroes}"
   ]
  },
  {
   "cell_type": "markdown",
   "id": "3c36aa36",
   "metadata": {},
   "source": [
    "Working with Interval and Count Data"
   ]
  },
  {
   "cell_type": "code",
   "execution_count": 150,
   "id": "5f760f59",
   "metadata": {},
   "outputs": [
    {
     "data": {
      "image/png": "[encoded data removed]",
      "text/plain": [
       "<Figure size 432x288 with 1 Axes>"
      ]
     },
     "metadata": {
      "needs_background": "light"
     },
     "output_type": "display_data"
    }
   ],
   "source": [
    "# developing a boxplot\n",
    "sns.boxplot(x    = 'cigs',\n",
    "            y    = 'bwght',\n",
    "            data = weight)\n",
    "\n",
    "\n",
    "# titles and axis labels\n",
    "plt.title(label   = 'Boxplot with Interval Data')\n",
    "plt.xlabel(xlabel = 'No of Cigarretes')\n",
    "plt.ylabel(ylabel = 'birthweight')\n",
    "\n",
    "\n",
    "# displaying the plot\n",
    "plt.show()"
   ]
  },
  {
   "cell_type": "code",
   "execution_count": 151,
   "id": "18f18778",
   "metadata": {},
   "outputs": [
    {
     "data": {
      "image/png": "[encoded data removed]",
      "text/plain": [
       "<Figure size 432x288 with 1 Axes>"
      ]
     },
     "metadata": {
      "needs_background": "light"
     },
     "output_type": "display_data"
    }
   ],
   "source": [
    "# developing a boxplot\n",
    "sns.boxplot(x    = 'drink',\n",
    "            y    = 'bwght',\n",
    "            data = weight)\n",
    "\n",
    "\n",
    "# titles and axis labels\n",
    "plt.title(label   = 'Boxplot with Interval Data')\n",
    "plt.xlabel(xlabel = 'No of drinks')\n",
    "plt.ylabel(ylabel = 'birthweight')\n",
    "\n",
    "\n",
    "# displaying the plot\n",
    "plt.show()"
   ]
  },
  {
   "cell_type": "code",
   "execution_count": 152,
   "id": "8af12b11",
   "metadata": {},
   "outputs": [
    {
     "name": "stdout",
     "output_type": "stream",
     "text": [
      "\n",
      "Count of X variables\n",
      "==================\n",
      "\n",
      "----------\n",
      "Mother prenetal\n",
      "----------\n",
      "1    45\n",
      "2    93\n",
      "3    33\n",
      "4    13\n",
      "5     4\n",
      "6     2\n",
      "7     3\n",
      "8     3\n",
      "Name: monpre, dtype: int64\n",
      "\n",
      "\n",
      "----------\n",
      "Other X variables\n",
      "----------\n",
      "2       5\n",
      "3       4\n",
      "4       3\n",
      "5       2\n",
      "6       3\n",
      "7       7\n",
      "8      57\n",
      "9     111\n",
      "10      4\n",
      "Name: omaps, dtype: int64\n",
      "\n",
      "5       1\n",
      "6       2\n",
      "7       5\n",
      "8       8\n",
      "9     159\n",
      "10     21\n",
      "Name: fmaps, dtype: int64\n",
      "\n",
      "0      9\n",
      "1      8\n",
      "2      4\n",
      "3      4\n",
      "4      8\n",
      "5     11\n",
      "6      9\n",
      "7      5\n",
      "8     11\n",
      "9     11\n",
      "10    10\n",
      "11    13\n",
      "12     9\n",
      "13    15\n",
      "14    11\n",
      "15     9\n",
      "16    11\n",
      "17    12\n",
      "18     5\n",
      "19     6\n",
      "20     2\n",
      "21     5\n",
      "22     2\n",
      "23     3\n",
      "24     1\n",
      "25     2\n",
      "Name: cigs, dtype: int64\n",
      "\n",
      "0     11\n",
      "1     12\n",
      "2     12\n",
      "3     10\n",
      "4     35\n",
      "5     27\n",
      "6     21\n",
      "7     19\n",
      "8     19\n",
      "9     12\n",
      "10    10\n",
      "11     2\n",
      "12     3\n",
      "13     2\n",
      "14     1\n",
      "Name: drink, dtype: int64\n",
      "\n",
      "\n"
     ]
    }
   ],
   "source": [
    "print(f\"\"\"\n",
    "Count of X variables\n",
    "==================\n",
    "\n",
    "----------\n",
    "Mother prenetal\n",
    "----------\n",
    "{weight['monpre'].value_counts(normalize = False).sort_index()}\n",
    "\n",
    "\n",
    "----------\n",
    "Other X variables\n",
    "----------\n",
    "{weight['omaps'].value_counts(normalize = False).sort_index()}\n",
    "\n",
    "{weight['fmaps'].value_counts(normalize = False).sort_index()}\n",
    "\n",
    "{weight['cigs'].value_counts(normalize = False).sort_index()}\n",
    "\n",
    "{weight['drink'].value_counts(normalize = False).sort_index()}\n",
    "\n",
    "\"\"\")"
   ]
  },
  {
   "cell_type": "code",
   "execution_count": 153,
   "id": "1c36dda2",
   "metadata": {},
   "outputs": [
    {
     "name": "stdout",
     "output_type": "stream",
     "text": [
      "\n",
      "                 No\t\tYes\n",
      "               ---------------------\n",
      "Monpre       | 0\t\t196\n",
      "Omaps        | 0\t\t196\n",
      "Fmaps        | 0\t\t196\n",
      "Smoking      | 9\t\t187\n",
      "Drinking     | 11\t\t185\n",
      "\n"
     ]
    }
   ],
   "source": [
    "# counting the number of zeroes for \n",
    "monpre_zeroes   = len(weight['monpre'][weight['monpre'] == 0]) \n",
    "omaps_zeroes     = len(weight['omaps'][weight['omaps'] == 0])\n",
    "fmaps_zeroes = len(weight['fmaps'][weight['fmaps'] == 0])\n",
    "cigs_zeroes  = len(weight['cigs'][weight['cigs'] == 0])\n",
    "drink_zeroes = len(weight['drink'][weight['drink'] == 0])\n",
    "## the table below has been coded for you ##\n",
    "\n",
    "# printing a table of the results\n",
    "print(f\"\"\"\n",
    "                 No\\t\\tYes\n",
    "               ---------------------\n",
    "Monpre       | {monpre_zeroes}\\t\\t{len(weight) - monpre_zeroes}\n",
    "Omaps        | {omaps_zeroes}\\t\\t{len(weight) - omaps_zeroes}\n",
    "Fmaps        | {fmaps_zeroes}\\t\\t{len(weight) - fmaps_zeroes}\n",
    "Smoking      | {cigs_zeroes}\\t\\t{len(weight) - cigs_zeroes}\n",
    "Drinking     | {drink_zeroes}\\t\\t{len(weight) - drink_zeroes}\n",
    "\"\"\")"
   ]
  },
  {
   "cell_type": "code",
   "execution_count": 154,
   "id": "b708dd38",
   "metadata": {},
   "outputs": [
    {
     "name": "stdout",
     "output_type": "stream",
     "text": [
      "bwght        1.00\n",
      "log_bwght    0.97\n",
      "omaps        0.25\n",
      "fmaps        0.25\n",
      "feduc        0.13\n",
      "mblck        0.13\n",
      "fblck        0.12\n",
      "male         0.11\n",
      "meduc        0.09\n",
      "npvis        0.06\n",
      "m_npvis      0.06\n",
      "m_feduc     -0.00\n",
      "moth        -0.02\n",
      "fwhte       -0.04\n",
      "monpre      -0.05\n",
      "foth        -0.08\n",
      "mwhte       -0.11\n",
      "m_meduc     -0.13\n",
      "fage        -0.40\n",
      "mage        -0.46\n",
      "cigs        -0.57\n",
      "drink       -0.74\n",
      "Name: bwght, dtype: float64\n"
     ]
    }
   ],
   "source": [
    "df_corr = weight.corr().round(2)\n",
    "\n",
    "print(df_corr.loc['bwght'].sort_values(ascending = False))"
   ]
  },
  {
   "cell_type": "code",
   "execution_count": 155,
   "id": "2d28bc68",
   "metadata": {},
   "outputs": [
    {
     "data": {
      "text/plain": [
       "mage         False\n",
       "meduc        False\n",
       "monpre       False\n",
       "npvis        False\n",
       "fage         False\n",
       "feduc        False\n",
       "omaps        False\n",
       "fmaps        False\n",
       "cigs         False\n",
       "drink        False\n",
       "male         False\n",
       "mwhte        False\n",
       "mblck        False\n",
       "moth         False\n",
       "fwhte        False\n",
       "fblck        False\n",
       "foth         False\n",
       "bwght        False\n",
       "log_bwght    False\n",
       "m_meduc      False\n",
       "m_npvis      False\n",
       "m_feduc      False\n",
       "dtype: bool"
      ]
     },
     "execution_count": 155,
     "metadata": {},
     "output_type": "execute_result"
    }
   ],
   "source": [
    "weight.isnull().any(axis = 0)"
   ]
  },
  {
   "cell_type": "code",
   "execution_count": 156,
   "id": "0a6a9c2b",
   "metadata": {},
   "outputs": [
    {
     "name": "stdout",
     "output_type": "stream",
     "text": [
      "mage +\n",
      "meduc +\n",
      "monpre +\n",
      "npvis +\n",
      "fage +\n",
      "feduc +\n",
      "omaps +\n",
      "fmaps +\n",
      "cigs +\n",
      "drink +\n",
      "male +\n",
      "mwhte +\n",
      "mblck +\n",
      "moth +\n",
      "fwhte +\n",
      "fblck +\n",
      "foth +\n",
      "m_meduc +\n",
      "m_npvis +\n",
      "m_feduc +\n"
     ]
    }
   ],
   "source": [
    "weight_explanatory = weight.copy()\n",
    "\n",
    "\n",
    "# dropping SalePrice and Order from the explanatory variable set\n",
    "weight_explanatory = weight_explanatory.drop(['bwght','log_bwght'\n",
    "                                             ], axis = 1)\n",
    "\n",
    "\n",
    "# formatting each explanatory variable for statsmodels\n",
    "for val in weight_explanatory:\n",
    "    print(f\"{val} +\")"
   ]
  },
  {
   "cell_type": "code",
   "execution_count": 157,
   "id": "84cd310c",
   "metadata": {},
   "outputs": [],
   "source": [
    "# saving feature-rich dataset in Excel\n",
    "weight.to_excel('./__datasets/weight_feature_rich_FINAL.xlsx',\n",
    "                 index = False)"
   ]
  },
  {
   "cell_type": "code",
   "execution_count": 125,
   "id": "7ac70253",
   "metadata": {},
   "outputs": [
    {
     "name": "stdout",
     "output_type": "stream",
     "text": [
      "                            OLS Regression Results                            \n",
      "==============================================================================\n",
      "Dep. Variable:                  bwght   R-squared:                       0.710\n",
      "Model:                            OLS   Adj. R-squared:                  0.701\n",
      "Method:                 Least Squares   F-statistic:                     77.25\n",
      "Date:                Wed, 24 Nov 2021   Prob (F-statistic):           3.30e-48\n",
      "Time:                        19:16:13   Log-Likelihood:                -1424.7\n",
      "No. Observations:                 196   AIC:                             2863.\n",
      "Df Residuals:                     189   BIC:                             2886.\n",
      "Df Model:                           6                                         \n",
      "Covariance Type:            nonrobust                                         \n",
      "==============================================================================\n",
      "                 coef    std err          t      P>|t|      [0.025      0.975]\n",
      "------------------------------------------------------------------------------\n",
      "Intercept   3699.2099     80.390     46.016      0.000    3540.633    3857.787\n",
      "mage         -14.2540      2.645     -5.390      0.000     -19.471      -9.037\n",
      "cigs         -36.9082      4.575     -8.067      0.000     -45.933     -27.884\n",
      "drink       -116.3268      9.533    -12.202      0.000    -135.132     -97.521\n",
      "fwhte       1217.7190     42.981     28.332      0.000    1132.935    1302.503\n",
      "fblck       1238.8063     44.426     27.885      0.000    1151.171    1326.441\n",
      "foth        1242.6846     48.321     25.717      0.000    1147.366    1338.003\n",
      "m_npvis      379.0203    207.538      1.826      0.069     -30.368     788.409\n",
      "==============================================================================\n",
      "Omnibus:                        5.514   Durbin-Watson:                   1.269\n",
      "Prob(Omnibus):                  0.063   Jarque-Bera (JB):                7.533\n",
      "Skew:                          -0.123   Prob(JB):                       0.0231\n",
      "Kurtosis:                       3.928   Cond. No.                     3.23e+17\n",
      "==============================================================================\n",
      "\n",
      "Notes:\n",
      "[1] Standard Errors assume that the covariance matrix of the errors is correctly specified.\n",
      "[2] The smallest eigenvalue is 3.5e-30. This might indicate that there are\n",
      "strong multicollinearity problems or that the design matrix is singular.\n"
     ]
    }
   ],
   "source": [
    "# Step 1: INSTANTIATE a model object\n",
    "lm_best = smf.ols(formula = \"\"\"bwght ~ mage +\n",
    "cigs +\n",
    "drink +\n",
    "fwhte +\n",
    "fblck +\n",
    "foth +\n",
    "m_npvis\n",
    "\"\"\",\n",
    "                  data = weight)\n",
    "\n",
    "\n",
    "# Step 2: FIT the data into the model object\n",
    "results = lm_best.fit()\n",
    "\n",
    "\n",
    "# Step 3: analyze the SUMMARY output\n",
    "print(results.summary())"
   ]
  },
  {
   "cell_type": "code",
   "execution_count": 56,
   "id": "42c480a8",
   "metadata": {},
   "outputs": [
    {
     "name": "stdout",
     "output_type": "stream",
     "text": [
      "                            OLS Regression Results                            \n",
      "==============================================================================\n",
      "Dep. Variable:                  bwght   R-squared:                       0.710\n",
      "Model:                            OLS   Adj. R-squared:                  0.704\n",
      "Method:                 Least Squares   F-statistic:                     116.9\n",
      "Date:                Wed, 24 Nov 2021   Prob (F-statistic):           3.08e-50\n",
      "Time:                        18:32:38   Log-Likelihood:                -1424.8\n",
      "No. Observations:                 196   AIC:                             2860.\n",
      "Df Residuals:                     191   BIC:                             2876.\n",
      "Df Model:                           4                                         \n",
      "Covariance Type:            nonrobust                                         \n",
      "==============================================================================\n",
      "                 coef    std err          t      P>|t|      [0.025      0.975]\n",
      "------------------------------------------------------------------------------\n",
      "Intercept   4928.1496    105.973     46.504      0.000    4719.121    5137.178\n",
      "mage         -14.1340      2.615     -5.405      0.000     -19.292      -8.976\n",
      "cigs         -36.8060      4.441     -8.287      0.000     -45.567     -28.045\n",
      "drink       -116.7531      9.436    -12.373      0.000    -135.366     -98.141\n",
      "m_npvis      387.0770    205.607      1.883      0.061     -18.475     792.629\n",
      "==============================================================================\n",
      "Omnibus:                        5.399   Durbin-Watson:                   1.273\n",
      "Prob(Omnibus):                  0.067   Jarque-Bera (JB):                7.350\n",
      "Skew:                          -0.116   Prob(JB):                       0.0254\n",
      "Kurtosis:                       3.920   Cond. No.                         354.\n",
      "==============================================================================\n",
      "\n",
      "Notes:\n",
      "[1] Standard Errors assume that the covariance matrix of the errors is correctly specified.\n"
     ]
    }
   ],
   "source": [
    "# Step 1: INSTANTIATE a model object\n",
    "lm_best = smf.ols(formula = \"\"\"bwght ~ mage +\n",
    "cigs +\n",
    "drink +\n",
    "m_npvis\n",
    "\"\"\",\n",
    "                  data = weight)\n",
    "\n",
    "\n",
    "# Step 2: FIT the data into the model object\n",
    "results = lm_best.fit()\n",
    "\n",
    "\n",
    "# Step 3: analyze the SUMMARY output\n",
    "print(results.summary())"
   ]
  },
  {
   "cell_type": "code",
   "execution_count": 119,
   "id": "f3852813",
   "metadata": {},
   "outputs": [
    {
     "name": "stdout",
     "output_type": "stream",
     "text": [
      "                            OLS Regression Results                            \n",
      "==============================================================================\n",
      "Dep. Variable:                  bwght   R-squared:                       0.117\n",
      "Model:                            OLS   Adj. R-squared:                  0.079\n",
      "Method:                 Least Squares   F-statistic:                     3.088\n",
      "Date:                Wed, 24 Nov 2021   Prob (F-statistic):            0.00270\n",
      "Time:                        19:10:55   Log-Likelihood:                -1533.9\n",
      "No. Observations:                 196   AIC:                             3086.\n",
      "Df Residuals:                     187   BIC:                             3115.\n",
      "Df Model:                           8                                         \n",
      "Covariance Type:            nonrobust                                         \n",
      "==============================================================================\n",
      "                 coef    std err          t      P>|t|      [0.025      0.975]\n",
      "------------------------------------------------------------------------------\n",
      "Intercept    833.1648    725.593      1.148      0.252    -598.235    2264.564\n",
      "omaps         45.0454     38.949      1.157      0.249     -31.791     121.881\n",
      "fmaps        180.4411     89.893      2.007      0.046       3.107     357.776\n",
      "feduc         13.3178     23.036      0.578      0.564     -32.125      58.761\n",
      "mblck        171.0336    203.898      0.839      0.403    -231.203     573.271\n",
      "fblck         24.7381    210.540      0.117      0.907    -390.601     440.077\n",
      "male         125.8436     90.991      1.383      0.168     -53.658     305.345\n",
      "meduc         13.1381     28.545      0.460      0.646     -43.173      69.449\n",
      "m_npvis      247.0805    366.945      0.673      0.502    -476.802     970.963\n",
      "==============================================================================\n",
      "Omnibus:                        4.250   Durbin-Watson:                   0.234\n",
      "Prob(Omnibus):                  0.119   Jarque-Bera (JB):                4.406\n",
      "Skew:                          -0.199   Prob(JB):                        0.110\n",
      "Kurtosis:                       3.618   Cond. No.                         384.\n",
      "==============================================================================\n",
      "\n",
      "Notes:\n",
      "[1] Standard Errors assume that the covariance matrix of the errors is correctly specified.\n"
     ]
    }
   ],
   "source": [
    "# Step 1: INSTANTIATE a model object\n",
    "lm_best = smf.ols(formula = \"\"\"bwght ~ omaps +\n",
    "fmaps +\n",
    "feduc + \n",
    "mblck +\n",
    "fblck +\n",
    "male  +\n",
    "meduc +\n",
    "m_npvis\n",
    "\"\"\",\n",
    "                  data = weight)\n",
    "\n",
    "\n",
    "# Step 2: FIT the data into the model object\n",
    "results = lm_best.fit()\n",
    "\n",
    "\n",
    "# Step 3: analyze the SUMMARY output\n",
    "print(results.summary())"
   ]
  },
  {
   "cell_type": "code",
   "execution_count": 158,
   "id": "8b442240",
   "metadata": {},
   "outputs": [
    {
     "data": {
      "text/html": [
       "<div>\n",
       "<style scoped>\n",
       "    .dataframe tbody tr th:only-of-type {\n",
       "        vertical-align: middle;\n",
       "    }\n",
       "\n",
       "    .dataframe tbody tr th {\n",
       "        vertical-align: top;\n",
       "    }\n",
       "\n",
       "    .dataframe thead th {\n",
       "        text-align: right;\n",
       "    }\n",
       "</style>\n",
       "<table border=\"1\" class=\"dataframe\">\n",
       "  <thead>\n",
       "    <tr style=\"text-align: right;\">\n",
       "      <th></th>\n",
       "      <th>mage</th>\n",
       "      <th>meduc</th>\n",
       "      <th>monpre</th>\n",
       "      <th>npvis</th>\n",
       "      <th>fage</th>\n",
       "      <th>feduc</th>\n",
       "      <th>omaps</th>\n",
       "      <th>fmaps</th>\n",
       "      <th>cigs</th>\n",
       "      <th>drink</th>\n",
       "      <th>male</th>\n",
       "      <th>mwhte</th>\n",
       "      <th>mblck</th>\n",
       "      <th>moth</th>\n",
       "      <th>fwhte</th>\n",
       "      <th>fblck</th>\n",
       "      <th>foth</th>\n",
       "      <th>bwght</th>\n",
       "      <th>log_bwght</th>\n",
       "      <th>m_meduc</th>\n",
       "      <th>m_npvis</th>\n",
       "      <th>m_feduc</th>\n",
       "    </tr>\n",
       "  </thead>\n",
       "  <tbody>\n",
       "    <tr>\n",
       "      <th>0</th>\n",
       "      <td>69</td>\n",
       "      <td>14</td>\n",
       "      <td>5</td>\n",
       "      <td>2</td>\n",
       "      <td>62</td>\n",
       "      <td>14</td>\n",
       "      <td>4</td>\n",
       "      <td>7</td>\n",
       "      <td>23</td>\n",
       "      <td>9</td>\n",
       "      <td>1</td>\n",
       "      <td>0</td>\n",
       "      <td>1</td>\n",
       "      <td>0</td>\n",
       "      <td>0</td>\n",
       "      <td>1</td>\n",
       "      <td>0</td>\n",
       "      <td>697</td>\n",
       "      <td>6.546785</td>\n",
       "      <td>1</td>\n",
       "      <td>0</td>\n",
       "      <td>1</td>\n",
       "    </tr>\n",
       "    <tr>\n",
       "      <th>1</th>\n",
       "      <td>68</td>\n",
       "      <td>12</td>\n",
       "      <td>3</td>\n",
       "      <td>10</td>\n",
       "      <td>61</td>\n",
       "      <td>11</td>\n",
       "      <td>4</td>\n",
       "      <td>6</td>\n",
       "      <td>25</td>\n",
       "      <td>11</td>\n",
       "      <td>1</td>\n",
       "      <td>1</td>\n",
       "      <td>0</td>\n",
       "      <td>0</td>\n",
       "      <td>1</td>\n",
       "      <td>0</td>\n",
       "      <td>0</td>\n",
       "      <td>1290</td>\n",
       "      <td>7.162397</td>\n",
       "      <td>0</td>\n",
       "      <td>0</td>\n",
       "      <td>0</td>\n",
       "    </tr>\n",
       "    <tr>\n",
       "      <th>2</th>\n",
       "      <td>71</td>\n",
       "      <td>12</td>\n",
       "      <td>3</td>\n",
       "      <td>6</td>\n",
       "      <td>46</td>\n",
       "      <td>12</td>\n",
       "      <td>2</td>\n",
       "      <td>7</td>\n",
       "      <td>21</td>\n",
       "      <td>12</td>\n",
       "      <td>1</td>\n",
       "      <td>0</td>\n",
       "      <td>1</td>\n",
       "      <td>0</td>\n",
       "      <td>0</td>\n",
       "      <td>1</td>\n",
       "      <td>0</td>\n",
       "      <td>1490</td>\n",
       "      <td>7.306531</td>\n",
       "      <td>0</td>\n",
       "      <td>0</td>\n",
       "      <td>0</td>\n",
       "    </tr>\n",
       "    <tr>\n",
       "      <th>3</th>\n",
       "      <td>59</td>\n",
       "      <td>16</td>\n",
       "      <td>1</td>\n",
       "      <td>8</td>\n",
       "      <td>48</td>\n",
       "      <td>16</td>\n",
       "      <td>7</td>\n",
       "      <td>8</td>\n",
       "      <td>21</td>\n",
       "      <td>10</td>\n",
       "      <td>0</td>\n",
       "      <td>0</td>\n",
       "      <td>0</td>\n",
       "      <td>1</td>\n",
       "      <td>0</td>\n",
       "      <td>0</td>\n",
       "      <td>1</td>\n",
       "      <td>1720</td>\n",
       "      <td>7.450080</td>\n",
       "      <td>0</td>\n",
       "      <td>0</td>\n",
       "      <td>0</td>\n",
       "    </tr>\n",
       "    <tr>\n",
       "      <th>4</th>\n",
       "      <td>48</td>\n",
       "      <td>12</td>\n",
       "      <td>4</td>\n",
       "      <td>6</td>\n",
       "      <td>39</td>\n",
       "      <td>12</td>\n",
       "      <td>2</td>\n",
       "      <td>9</td>\n",
       "      <td>17</td>\n",
       "      <td>13</td>\n",
       "      <td>0</td>\n",
       "      <td>1</td>\n",
       "      <td>0</td>\n",
       "      <td>0</td>\n",
       "      <td>1</td>\n",
       "      <td>0</td>\n",
       "      <td>0</td>\n",
       "      <td>1956</td>\n",
       "      <td>7.578657</td>\n",
       "      <td>0</td>\n",
       "      <td>0</td>\n",
       "      <td>0</td>\n",
       "    </tr>\n",
       "  </tbody>\n",
       "</table>\n",
       "</div>"
      ],
      "text/plain": [
       "   mage  meduc  monpre  npvis  fage  feduc  omaps  fmaps  cigs  drink  male  mwhte  mblck  moth  fwhte  fblck  foth  bwght  log_bwght  m_meduc  m_npvis  m_feduc\n",
       "0    69     14       5      2    62     14      4      7    23      9     1      0      1     0      0      1     0    697   6.546785        1        0        1\n",
       "1    68     12       3     10    61     11      4      6    25     11     1      1      0     0      1      0     0   1290   7.162397        0        0        0\n",
       "2    71     12       3      6    46     12      2      7    21     12     1      0      1     0      0      1     0   1490   7.306531        0        0        0\n",
       "3    59     16       1      8    48     16      7      8    21     10     0      0      0     1      0      0     1   1720   7.450080        0        0        0\n",
       "4    48     12       4      6    39     12      2      9    17     13     0      1      0     0      1      0     0   1956   7.578657        0        0        0"
      ]
     },
     "execution_count": 158,
     "metadata": {},
     "output_type": "execute_result"
    }
   ],
   "source": [
    "#importing libraries\n",
    "import pandas as pd\n",
    "import matplotlib.pyplot as plt\n",
    "import seaborn as sns\n",
    "import statsmodels.formula.api as smf\n",
    "from sklearn.model_selection import train_test_split\n",
    "from sklearn.linear_model import LinearRegression\n",
    "\n",
    "#setting pandas print options\n",
    "pd.set_option('display.max_rows', 500)\n",
    "pd.set_option('display.max_columns', 500)\n",
    "pd.set_option('display.width', 1000)\n",
    "\n",
    "#specifying the path and file name\n",
    "file = './__datasets/weight_feature_rich_FINAL.xlsx'\n",
    "\n",
    "#reading the file into Python\n",
    "weight = pd.read_excel(io = file)\n",
    "\n",
    "#checking the file\n",
    "weight.head(n = 5)"
   ]
  },
  {
   "cell_type": "code",
   "execution_count": 159,
   "id": "6e6190b6",
   "metadata": {},
   "outputs": [
    {
     "name": "stdout",
     "output_type": "stream",
     "text": [
      "\n",
      "Training Data\n",
      "-------------\n",
      "X-side: (147, 20)\n",
      "y-side: (147,)\n",
      "\n",
      "Testing Data\n",
      "-------------\n",
      "X-side: (49, 20)\n",
      "y-side: (49,)\n",
      "\n"
     ]
    }
   ],
   "source": [
    "#preparing explanatory variable data\n",
    "\n",
    "weight_data = weight.drop([\"bwght\",\n",
    "                          \"log_bwght\"],\n",
    "                          axis = 1)\n",
    "\n",
    "#preparing the response variables\n",
    "weight_target = weight.loc[ : , \"bwght\"]\n",
    "log_weight_target = weight.loc[ : ,\"log_bwght\"]\n",
    "\n",
    "#preparing training and testing sets\n",
    "x_train, x_test, y_train, y_test = train_test_split(\n",
    "              weight_data,\n",
    "              weight_target,\n",
    "              test_size = 0.25,\n",
    "              random_state = 219)\n",
    "\n",
    "#checking the shapes of the datasets\n",
    "print(f\"\"\"\n",
    "Training Data\n",
    "-------------\n",
    "X-side: {x_train.shape}\n",
    "y-side: {y_train.shape}\n",
    "\n",
    "Testing Data\n",
    "-------------\n",
    "X-side: {x_test.shape}\n",
    "y-side: {y_test.shape}\n",
    "\"\"\")"
   ]
  },
  {
   "cell_type": "code",
   "execution_count": 160,
   "id": "dd6114d7",
   "metadata": {},
   "outputs": [
    {
     "name": "stdout",
     "output_type": "stream",
     "text": [
      "mage +\n",
      "cigs +\n",
      "drink +\n",
      "m_npvis +\n"
     ]
    }
   ],
   "source": [
    "#declaring set of x-variables\n",
    "x_variables = ['mage','cigs','drink','m_npvis']\n",
    "\n",
    "#looping to make x-variables suitable for statsmodels\n",
    "for val in x_variables:\n",
    "    print(f\"{val} +\")"
   ]
  },
  {
   "cell_type": "code",
   "execution_count": 161,
   "id": "595f9919",
   "metadata": {},
   "outputs": [
    {
     "name": "stdout",
     "output_type": "stream",
     "text": [
      "                            OLS Regression Results                            \n",
      "==============================================================================\n",
      "Dep. Variable:                  bwght   R-squared:                       0.716\n",
      "Model:                            OLS   Adj. R-squared:                  0.708\n",
      "Method:                 Least Squares   F-statistic:                     89.64\n",
      "Date:                Wed, 24 Nov 2021   Prob (F-statistic):           7.34e-38\n",
      "Time:                        19:24:36   Log-Likelihood:                -1072.1\n",
      "No. Observations:                 147   AIC:                             2154.\n",
      "Df Residuals:                     142   BIC:                             2169.\n",
      "Df Model:                           4                                         \n",
      "Covariance Type:            nonrobust                                         \n",
      "==============================================================================\n",
      "                 coef    std err          t      P>|t|      [0.025      0.975]\n",
      "------------------------------------------------------------------------------\n",
      "Intercept   5068.1017    123.971     40.881      0.000    4823.035    5313.169\n",
      "mage         -17.7871      3.024     -5.882      0.000     -23.765     -11.809\n",
      "cigs         -38.4807      5.109     -7.532      0.000     -48.580     -28.381\n",
      "drink       -107.9826     11.243     -9.604      0.000    -130.209     -85.757\n",
      "m_npvis      357.5152    258.716      1.382      0.169    -153.916     868.947\n",
      "==============================================================================\n",
      "Omnibus:                        4.607   Durbin-Watson:                   1.873\n",
      "Prob(Omnibus):                  0.100   Jarque-Bera (JB):                5.974\n",
      "Skew:                          -0.094   Prob(JB):                       0.0504\n",
      "Kurtosis:                       3.970   Cond. No.                         380.\n",
      "==============================================================================\n",
      "\n",
      "Notes:\n",
      "[1] Standard Errors assume that the covariance matrix of the errors is correctly specified.\n"
     ]
    }
   ],
   "source": [
    "#merging X-train and y_train so that they can be used in statsmodels\n",
    "weight_train = pd.concat([x_train, y_train], axis = 1)\n",
    "\n",
    "#step 1: build a model\n",
    "lm_best = smf.ols(formula = \"\"\"bwght ~ mage +\n",
    "cigs +\n",
    "drink +\n",
    "m_npvis\n",
    "\"\"\",\n",
    "                 data = weight_train)\n",
    "\n",
    "#Step 2: fit the model based on the data\n",
    "results = lm_best.fit()\n",
    "\n",
    "#Step 3: analyze the summary output\n",
    "print(results.summary())"
   ]
  },
  {
   "cell_type": "code",
   "execution_count": 162,
   "id": "9320b41b",
   "metadata": {},
   "outputs": [],
   "source": [
    "#applying model in scikit-learn\n",
    "\n",
    "#preparing x-variables from the OLS model\n",
    "ols_data = weight.loc[ : , x_variables]\n",
    "\n",
    "#preparing the response variable\n",
    "weight_target = weight.loc[ : , 'bwght']\n",
    "\n",
    "\n",
    "#Setting up more than one train-test split\n",
    "#Full X-dataset (normal Y)\n",
    "x_train_FULL, x_test_FULL, y_train_FULL, y_test_FULL = train_test_split(\n",
    "              weight_data, #x-variables\n",
    "              weight_target, #y-variables\n",
    "              test_size = 0.25,\n",
    "              random_state = 219)\n",
    "\n",
    "#OLS p-value x-dataset (normal Y)\n",
    "\n",
    "x_train_OLS, x_test_OLS, y_train_OLS, y_test_OLS = train_test_split(\n",
    "             ols_data,  #x-variables\n",
    "             weight_target, #y-variable\n",
    "             test_size = 0.25,\n",
    "             random_state = 219)"
   ]
  },
  {
   "cell_type": "code",
   "execution_count": 163,
   "id": "39028f56",
   "metadata": {},
   "outputs": [
    {
     "name": "stdout",
     "output_type": "stream",
     "text": [
      "OLS Training Score: 0.7163\n",
      "OLS Testing Score: 0.6569\n",
      "OLS Train-Test Gap : 0.0594\n"
     ]
    }
   ],
   "source": [
    "#Instantiating a model object\n",
    "lr = LinearRegression()\n",
    "\n",
    "#Fitting to the training data\n",
    "lr_fit = lr.fit(x_train_OLS, y_train_OLS)\n",
    "\n",
    "#Predicting on new data\n",
    "lr_pred = lr_fit.predict(x_test_OLS)\n",
    "\n",
    "#Scoring the results\n",
    "print('OLS Training Score:', lr.score(x_train_OLS, y_train_OLS).round(4)) #using R-square\n",
    "print('OLS Testing Score:',  lr.score(x_test_OLS, y_test_OLS).round(4)) #using R-square\n",
    "\n",
    "lr_train_score = lr.score(x_train_OLS, y_train_OLS).round(4)\n",
    "lr_test_score  = lr.score(x_test_OLS, y_test_OLS).round(4) \n",
    "\n",
    "#displaying and saving the gap between training and testing\n",
    "print('OLS Train-Test Gap :', abs(lr_train_score - lr_test_score).round(4))\n",
    "lr_test_gap = abs(lr_train_score - lr_test_score).round(4)"
   ]
  },
  {
   "cell_type": "code",
   "execution_count": 164,
   "id": "73a6b66e",
   "metadata": {},
   "outputs": [
    {
     "name": "stdout",
     "output_type": "stream",
     "text": [
      "('intercept', 5068.1)\n",
      "('mage', -17.79)\n",
      "('cigs', -38.48)\n",
      "('drink', -107.98)\n",
      "('m_npvis', 357.52)\n"
     ]
    }
   ],
   "source": [
    "#zipping each feature name to its coefficient\n",
    "lr_model_values = zip(weight_data[x_variables].columns,\n",
    "                     lr_fit.coef_.round(decimals = 2))\n",
    "\n",
    "#setting up a placeholder list to store model features\n",
    "lr_model_lst = [('intercept', lr_fit.intercept_.round(decimals = 2))]\n",
    "\n",
    "#printing out each feature-coefficient pair one by one\n",
    "for val in lr_model_values:\n",
    "    lr_model_lst.append(val)\n",
    "    \n",
    "#checking the results\n",
    "for pair in lr_model_lst:\n",
    "    print(pair)"
   ]
  },
  {
   "cell_type": "code",
   "execution_count": 165,
   "id": "6b86ae59",
   "metadata": {},
   "outputs": [],
   "source": [
    "import sklearn.linear_model #linear models"
   ]
  },
  {
   "cell_type": "code",
   "execution_count": 92,
   "id": "f7287b34",
   "metadata": {},
   "outputs": [
    {
     "data": {
      "text/plain": [
       "False"
      ]
     },
     "execution_count": 92,
     "metadata": {},
     "output_type": "execute_result"
    }
   ],
   "source": [
    "np.any(np.isnan(weight))"
   ]
  },
  {
   "cell_type": "code",
   "execution_count": 166,
   "id": "74941e1b",
   "metadata": {},
   "outputs": [
    {
     "name": "stdout",
     "output_type": "stream",
     "text": [
      "Lasso Training Score : 0.7436\n",
      "Lasso Testing Score : 0.6179\n",
      "Lasso Train-Test Gap : 0.1257\n"
     ]
    },
    {
     "name": "stderr",
     "output_type": "stream",
     "text": [
      "C:\\Users\\IFEAJ\\anaconda3\\lib\\site-packages\\sklearn\\linear_model\\_base.py:141: FutureWarning: 'normalize' was deprecated in version 1.0 and will be removed in 1.2.\n",
      "If you wish to scale the data, use Pipeline with a StandardScaler in a preprocessing stage. To reproduce the previous behavior:\n",
      "\n",
      "from sklearn.pipeline import make_pipeline\n",
      "\n",
      "model = make_pipeline(StandardScaler(with_mean=False), Lasso())\n",
      "\n",
      "If you wish to pass a sample_weight parameter, you need to pass it as a fit parameter to each step of the pipeline as follows:\n",
      "\n",
      "kwargs = {s[0] + '__sample_weight': sample_weight for s in model.steps}\n",
      "model.fit(X, y, **kwargs)\n",
      "\n",
      "Set parameter alpha to: original_alpha * np.sqrt(n_samples). \n",
      "  warnings.warn(\n"
     ]
    }
   ],
   "source": [
    "#Instantiating a model object\n",
    "lasso_model = sklearn.linear_model.Lasso(alpha = 1.0,\n",
    "                                        normalize = True)\n",
    "\n",
    "#Fitting to the training data\n",
    "lasso_fit = lasso_model.fit(x_train_FULL, y_train_FULL)\n",
    "\n",
    "#Predicting on new data\n",
    "lasso_pred = lasso_fit.predict(x_test_FULL)\n",
    "\n",
    "#Scoring the result\n",
    "print('Lasso Training Score :', lasso_model.score(x_train_FULL, y_train_FULL).round(4))\n",
    "print('Lasso Testing Score :', lasso_model.score(x_test_FULL, y_test_FULL).round(4))\n",
    "\n",
    "#saving the scoring data for future use\n",
    "lasso_train_score = lasso_model.score(x_train_FULL, y_train_FULL).round(4) #using R-square\n",
    "lasso_test_score  = lasso_model.score(x_test_FULL, y_test_FULL).round(4) #using R-square\n",
    "\n",
    "#displaying and saving the gap between training and testing\n",
    "print('Lasso Train-Test Gap :', abs(lasso_train_score - lasso_test_score).round(4))\n",
    "lasso_test_gap = abs(lasso_train_score - lasso_test_score).round(4)"
   ]
  },
  {
   "cell_type": "code",
   "execution_count": 180,
   "id": "a4ac22d7",
   "metadata": {},
   "outputs": [
    {
     "name": "stdout",
     "output_type": "stream",
     "text": [
      "('intercept', 3807.03)\n",
      "('mage', -13.71)\n",
      "('meduc', 17.78)\n",
      "('monpre', 0.0)\n",
      "('npvis', 0.68)\n",
      "('fage', -2.7)\n",
      "('feduc', 15.04)\n",
      "('omaps', 0.0)\n",
      "('fmaps', 76.79)\n",
      "('cigs', -37.64)\n",
      "('drink', -98.43)\n",
      "('male', 46.33)\n",
      "('mwhte', 0.0)\n",
      "('mblck', 0.0)\n",
      "('moth', -73.95)\n",
      "('fwhte', -0.0)\n",
      "('fblck', 0.0)\n",
      "('foth', -0.0)\n",
      "('m_meduc', -232.89)\n",
      "('m_npvis', 349.49)\n",
      "('m_feduc', 0.0)\n"
     ]
    }
   ],
   "source": [
    "#Zipping each feature name to its coefficient\n",
    "lasso_model_values = zip(weight_data.columns,lasso_fit.coef_.round(decimals = 2))\n",
    "\n",
    "#setting up a placholder list to store model features\n",
    "lasso_model_lst = [('intercept', lasso_fit.intercept_.round(decimals = 2))]\n",
    "\n",
    "#printing out each feature-coefficient pair one by one\n",
    "for val in lasso_model_values:\n",
    "    lasso_model_lst.append(val)\n",
    "    \n",
    "#checking the results\n",
    "for pair in lasso_model_lst:\n",
    "    print(pair)"
   ]
  },
  {
   "cell_type": "code",
   "execution_count": 181,
   "id": "87cfdd93",
   "metadata": {},
   "outputs": [
    {
     "name": "stdout",
     "output_type": "stream",
     "text": [
      "('intercept', 3807.03)\n",
      "('mage', -13.71)\n",
      "('meduc', 17.78)\n",
      "('npvis', 0.68)\n",
      "('fage', -2.7)\n",
      "('feduc', 15.04)\n",
      "('fmaps', 76.79)\n",
      "('cigs', -37.64)\n",
      "('drink', -98.43)\n",
      "('male', 46.33)\n",
      "('mblck', 0.0)\n",
      "('moth', -73.95)\n",
      "('fblck', 0.0)\n",
      "('m_meduc', -232.89)\n",
      "('m_npvis', 349.49)\n"
     ]
    }
   ],
   "source": [
    "## This code may have to be run more than once ##\n",
    "\n",
    "# dropping coefficients that are equal to zero\n",
    "\n",
    "# printing out each feature-coefficient pair one by one\n",
    "for feature, coefficient in lasso_model_lst:\n",
    "    \n",
    "    if coefficient == 0:\n",
    "        lasso_model_lst.remove((feature, coefficient))\n",
    "        \n",
    "#checking the results\n",
    "for pair in lasso_model_lst:\n",
    "    print(pair)"
   ]
  },
  {
   "cell_type": "code",
   "execution_count": 182,
   "id": "967edbf2",
   "metadata": {},
   "outputs": [
    {
     "name": "stdout",
     "output_type": "stream",
     "text": [
      "Training Score: 0.7386\n",
      "Testing Score: 0.631\n",
      "ARD Train-Test Gap: 0.1076\n"
     ]
    },
    {
     "name": "stderr",
     "output_type": "stream",
     "text": [
      "C:\\Users\\IFEAJ\\anaconda3\\lib\\site-packages\\sklearn\\linear_model\\_base.py:148: FutureWarning: 'normalize' was deprecated in version 1.0 and will be removed in 1.2. Please leave the normalize parameter to its default value to silence this warning. The default behavior of this estimator is to not do any normalization. If normalization is needed please use sklearn.preprocessing.StandardScaler instead.\n",
      "  warnings.warn(\n"
     ]
    }
   ],
   "source": [
    "#instantiating a model object\n",
    "\n",
    "ard_model = sklearn.linear_model.ARDRegression(normalize = False)\n",
    "\n",
    "#Fitting the training data\n",
    "ard_fit = ard_model.fit(x_train_FULL, y_train_FULL)\n",
    "\n",
    "#Predicting on new data\n",
    "ard_pred = ard_fit.predict(x_test_FULL)\n",
    "\n",
    "print('Training Score:', ard_model.score(x_train_FULL, y_train_FULL).round(4))\n",
    "print('Testing Score:', ard_model.score(x_test_FULL, y_test_FULL).round(4))\n",
    "\n",
    "#saving the scoring data for future use\n",
    "ard_train_score = ard_model.score(x_train_FULL, y_train_FULL).round(4)\n",
    "ard_test_score  = ard_model.score(x_test_FULL, y_test_FULL).round(4)\n",
    "\n",
    "#displaying and saving the gap between the training and testing\n",
    "print('ARD Train-Test Gap:', abs(ard_train_score - ard_test_score).round(4))\n",
    "ard_test_gap = abs(ard_train_score - ard_test_score).round(4)"
   ]
  },
  {
   "cell_type": "code",
   "execution_count": 183,
   "id": "c3353263",
   "metadata": {},
   "outputs": [
    {
     "name": "stdout",
     "output_type": "stream",
     "text": [
      "('intercept', 3938.73)\n",
      "('mage', -15.63527)\n",
      "('meduc', 15.82983)\n",
      "('monpre', 1e-05)\n",
      "('npvis', 0.00118)\n",
      "('fage', -0.09886)\n",
      "('feduc', 11.64822)\n",
      "('omaps', 0.00039)\n",
      "('fmaps', 73.53206)\n",
      "('cigs', -39.07319)\n",
      "('drink', -102.65009)\n",
      "('male', 14.66144)\n",
      "('mwhte', 0.00074)\n",
      "('mblck', 0.0003)\n",
      "('moth', -51.48836)\n",
      "('fwhte', -2e-05)\n",
      "('fblck', 0.00049)\n",
      "('foth', -0.00061)\n",
      "('m_meduc', -127.00433)\n",
      "('m_npvis', 284.51505)\n",
      "('m_feduc', 6e-05)\n"
     ]
    }
   ],
   "source": [
    "#Zipping each feature name to its coefficient\n",
    "ard_model_values = zip(weight_data.columns, ard_fit.coef_.round(decimals = 5))\n",
    "\n",
    "#setting up a placeholder list to store model features\n",
    "ard_model_lst = [('intercept', ard_fit.intercept_.round(decimals = 2))]\n",
    "\n",
    "#printing out each feature-coefficient pair one by one\n",
    "for val in ard_model_values:\n",
    "    ard_model_lst.append(val)\n",
    "    \n",
    "#checking the results\n",
    "for pair in ard_model_lst:\n",
    "    print(pair)"
   ]
  },
  {
   "cell_type": "code",
   "execution_count": 184,
   "id": "b8b896cc",
   "metadata": {},
   "outputs": [
    {
     "name": "stdout",
     "output_type": "stream",
     "text": [
      "('intercept', 3938.73)\n",
      "('mage', -15.63527)\n",
      "('meduc', 15.82983)\n",
      "('monpre', 1e-05)\n",
      "('npvis', 0.00118)\n",
      "('fage', -0.09886)\n",
      "('feduc', 11.64822)\n",
      "('omaps', 0.00039)\n",
      "('fmaps', 73.53206)\n",
      "('cigs', -39.07319)\n",
      "('drink', -102.65009)\n",
      "('male', 14.66144)\n",
      "('mwhte', 0.00074)\n",
      "('mblck', 0.0003)\n",
      "('moth', -51.48836)\n",
      "('fwhte', -2e-05)\n",
      "('fblck', 0.00049)\n",
      "('foth', -0.00061)\n",
      "('m_meduc', -127.00433)\n",
      "('m_npvis', 284.51505)\n",
      "('m_feduc', 6e-05)\n"
     ]
    }
   ],
   "source": [
    "## This code may have to be run more than once ##\n",
    "\n",
    "# dropping coefficients that are equal to zero\n",
    "\n",
    "# printing out each feature-coefficient pair one by one\n",
    "\n",
    "for feature, coefficient in ard_model_lst:\n",
    "    \n",
    "    if coefficient == 0:\n",
    "        ard_model_lst.remove((feature, coefficient))\n",
    "        \n",
    "#checking the results\n",
    "for pair in ard_model_lst:\n",
    "    print(pair)"
   ]
  },
  {
   "cell_type": "code",
   "execution_count": 192,
   "id": "9095a498",
   "metadata": {},
   "outputs": [
    {
     "name": "stdout",
     "output_type": "stream",
     "text": [
      "\n",
      "Model      Train Score      Test Score          Train-Test Gap\n",
      "-----      -----------      ----------           -------------\n",
      "*OLS        0.7163           0.6569            0.0594\n",
      "Lasso       0.7436           0.6179            0.1257\n",
      "ARD         0.7386           0.631             0.1076\n",
      "\n",
      "*OLS is the final model\n",
      "\n"
     ]
    }
   ],
   "source": [
    "# comparing results\n",
    "\n",
    "print(f\"\"\"\n",
    "Model      Train Score      Test Score          Train-Test Gap\n",
    "-----      -----------      ----------           -------------\n",
    "*OLS        {lr_train_score}           {lr_test_score}            {lr_test_gap}\n",
    "Lasso       {lasso_train_score}           {lasso_test_score}            {lasso_test_gap}\n",
    "ARD         {ard_train_score}           {ard_test_score}             {ard_test_gap}\n",
    "\n",
    "*OLS is the final model\n",
    "\"\"\")\n",
    "\n",
    "\n",
    "# creating a dictionary for model results\n",
    "model_performance = {\n",
    "    \n",
    "    'Model Type'    : ['OLS', 'Lasso', 'ARD'],\n",
    "           \n",
    "    'Training' : [lr_train_score, lasso_train_score,\n",
    "                                   ard_train_score],\n",
    "           \n",
    "    'Testing'  : [lr_test_score, lasso_test_score,\n",
    "                                   ard_test_score],\n",
    "                    \n",
    "    'Train-Test Gap' : [lr_test_gap, lasso_test_gap,\n",
    "                                        ard_test_gap],\n",
    "                    \n",
    "    'Model Size' : [len(lr_model_lst), len(lasso_model_lst),\n",
    "                                    len(ard_model_lst)],\n",
    "                    \n",
    "    'Model' : [lr_model_lst, lasso_model_lst, ard_model_lst]}\n",
    "\n",
    "\n",
    "# converting model_performance into a DataFrame\n",
    "model_performance = pd.DataFrame(model_performance)\n",
    "\n",
    "\n",
    "# sending model results to Excel\n",
    "model_performance.to_excel('./__model_results/linear_model_performance.xlsx',\n",
    "                           index = False)"
   ]
  },
  {
   "cell_type": "code",
   "execution_count": null,
   "id": "7bbacfc8",
   "metadata": {},
   "outputs": [],
   "source": []
  }
 ],
 "metadata": {
  "kernelspec": {
   "display_name": "Python 3 (ipykernel)",
   "language": "python",
   "name": "python3"
  },
  "language_info": {
   "codemirror_mode": {
    "name": "ipython",
    "version": 3
   },
   "file_extension": ".py",
   "mimetype": "text/x-python",
   "name": "python",
   "nbconvert_exporter": "python",
   "pygments_lexer": "ipython3",
   "version": "3.8.8"
  },
  "toc": {
   "base_numbering": 1,
   "nav_menu": {},
   "number_sections": true,
   "sideBar": true,
   "skip_h1_title": false,
   "title_cell": "Table of Contents",
   "title_sidebar": "Contents",
   "toc_cell": false,
   "toc_position": {},
   "toc_section_display": true,
   "toc_window_display": false
  },
  "varInspector": {
   "cols": {
    "lenName": 16,
    "lenType": 16,
    "lenVar": 40
   },
   "kernels_config": {
    "python": {
     "delete_cmd_postfix": "",
     "delete_cmd_prefix": "del ",
     "library": "var_list.py",
     "varRefreshCmd": "print(var_dic_list())"
    },
    "r": {
     "delete_cmd_postfix": ") ",
     "delete_cmd_prefix": "rm(",
     "library": "var_list.r",
     "varRefreshCmd": "cat(var_dic_list()) "
    }
   },
   "types_to_exclude": [
    "module",
    "function",
    "builtin_function_or_method",
    "instance",
    "_Feature"
   ],
   "window_display": false
  }
 },
 "nbformat": 4,
 "nbformat_minor": 5
}
